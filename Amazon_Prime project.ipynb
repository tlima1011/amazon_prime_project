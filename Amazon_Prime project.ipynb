{
 "cells": [
  {
   "cell_type": "markdown",
   "metadata": {},
   "source": [
    "1 - Análise Amazon Prime"
   ]
  },
  {
   "attachments": {
    "presentation.jpg": {
     "image/jpeg": "[encoded data removed]"
    }
   },
   "cell_type": "markdown",
   "metadata": {},
   "source": [
    "![presentation.jpg](attachment:presentation.jpg)"
   ]
  },
  {
   "cell_type": "code",
   "execution_count": 1,
   "metadata": {},
   "outputs": [],
   "source": [
    "#import de bibliotecas \n",
    "import pandas as pd \n",
    "import numpy as np \n",
    "pd.options.display.max_columns = None"
   ]
  },
  {
   "cell_type": "code",
   "execution_count": 2,
   "metadata": {},
   "outputs": [],
   "source": [
    "#bibliotecas de visualização \n",
    "from matplotlib import pyplot as plt\n",
    "import seaborn as sns \n",
    "%matplotlib inline"
   ]
  },
  {
   "cell_type": "code",
   "execution_count": 3,
   "metadata": {},
   "outputs": [],
   "source": [
    "df = pd.read_csv(\"Prime TV Shows.csv\")"
   ]
  },
  {
   "cell_type": "code",
   "execution_count": 4,
   "metadata": {},
   "outputs": [
    {
     "data": {
      "text/html": [
       "<div>\n",
       "<style scoped>\n",
       "    .dataframe tbody tr th:only-of-type {\n",
       "        vertical-align: middle;\n",
       "    }\n",
       "\n",
       "    .dataframe tbody tr th {\n",
       "        vertical-align: top;\n",
       "    }\n",
       "\n",
       "    .dataframe thead th {\n",
       "        text-align: right;\n",
       "    }\n",
       "</style>\n",
       "<table border=\"1\" class=\"dataframe\">\n",
       "  <thead>\n",
       "    <tr style=\"text-align: right;\">\n",
       "      <th></th>\n",
       "      <th>S.no.</th>\n",
       "      <th>Name of the show</th>\n",
       "      <th>Year of release</th>\n",
       "      <th>No of seasons available</th>\n",
       "      <th>Language</th>\n",
       "      <th>Genre</th>\n",
       "      <th>IMDb rating</th>\n",
       "      <th>Age of viewers</th>\n",
       "    </tr>\n",
       "  </thead>\n",
       "  <tbody>\n",
       "    <tr>\n",
       "      <th>0</th>\n",
       "      <td>1</td>\n",
       "      <td>Pataal Lok</td>\n",
       "      <td>2020.0</td>\n",
       "      <td>1.0</td>\n",
       "      <td>Hindi</td>\n",
       "      <td>Drama</td>\n",
       "      <td>7.5</td>\n",
       "      <td>18+</td>\n",
       "    </tr>\n",
       "    <tr>\n",
       "      <th>1</th>\n",
       "      <td>2</td>\n",
       "      <td>Upload</td>\n",
       "      <td>2020.0</td>\n",
       "      <td>1.0</td>\n",
       "      <td>English</td>\n",
       "      <td>Sci-fi comedy</td>\n",
       "      <td>8.1</td>\n",
       "      <td>16+</td>\n",
       "    </tr>\n",
       "    <tr>\n",
       "      <th>2</th>\n",
       "      <td>3</td>\n",
       "      <td>The Marvelous Mrs. Maisel</td>\n",
       "      <td>2017.0</td>\n",
       "      <td>3.0</td>\n",
       "      <td>English</td>\n",
       "      <td>Drama, Comedy</td>\n",
       "      <td>8.7</td>\n",
       "      <td>16+</td>\n",
       "    </tr>\n",
       "    <tr>\n",
       "      <th>3</th>\n",
       "      <td>4</td>\n",
       "      <td>Four More Shots Please</td>\n",
       "      <td>2019.0</td>\n",
       "      <td>2.0</td>\n",
       "      <td>Hindi</td>\n",
       "      <td>Drama, Comedy</td>\n",
       "      <td>5.3</td>\n",
       "      <td>18+</td>\n",
       "    </tr>\n",
       "    <tr>\n",
       "      <th>4</th>\n",
       "      <td>5</td>\n",
       "      <td>Fleabag</td>\n",
       "      <td>2016.0</td>\n",
       "      <td>2.0</td>\n",
       "      <td>English</td>\n",
       "      <td>Comedy</td>\n",
       "      <td>8.7</td>\n",
       "      <td>18+</td>\n",
       "    </tr>\n",
       "    <tr>\n",
       "      <th>5</th>\n",
       "      <td>6</td>\n",
       "      <td>Made in Heaven</td>\n",
       "      <td>2019.0</td>\n",
       "      <td>1.0</td>\n",
       "      <td>Hindi</td>\n",
       "      <td>Drama</td>\n",
       "      <td>8.3</td>\n",
       "      <td>18+</td>\n",
       "    </tr>\n",
       "    <tr>\n",
       "      <th>6</th>\n",
       "      <td>7</td>\n",
       "      <td>Homecoming</td>\n",
       "      <td>2018.0</td>\n",
       "      <td>2.0</td>\n",
       "      <td>English</td>\n",
       "      <td>Drama</td>\n",
       "      <td>7.5</td>\n",
       "      <td>16+</td>\n",
       "    </tr>\n",
       "    <tr>\n",
       "      <th>7</th>\n",
       "      <td>8</td>\n",
       "      <td>Mirzapur</td>\n",
       "      <td>2018.0</td>\n",
       "      <td>1.0</td>\n",
       "      <td>Hindi</td>\n",
       "      <td>Drama</td>\n",
       "      <td>8.5</td>\n",
       "      <td>18+</td>\n",
       "    </tr>\n",
       "    <tr>\n",
       "      <th>8</th>\n",
       "      <td>9</td>\n",
       "      <td>The Family Man</td>\n",
       "      <td>2019.0</td>\n",
       "      <td>1.0</td>\n",
       "      <td>Hindi</td>\n",
       "      <td>Drama, Action</td>\n",
       "      <td>8.6</td>\n",
       "      <td>18+</td>\n",
       "    </tr>\n",
       "    <tr>\n",
       "      <th>9</th>\n",
       "      <td>10</td>\n",
       "      <td>Modern Love</td>\n",
       "      <td>2019.0</td>\n",
       "      <td>1.0</td>\n",
       "      <td>English</td>\n",
       "      <td>Drama, Romance, Comedy</td>\n",
       "      <td>8.0</td>\n",
       "      <td>16+</td>\n",
       "    </tr>\n",
       "  </tbody>\n",
       "</table>\n",
       "</div>"
      ],
      "text/plain": [
       "   S.no.           Name of the show  Year of release  No of seasons available  \\\n",
       "0      1                 Pataal Lok           2020.0                      1.0   \n",
       "1      2                     Upload           2020.0                      1.0   \n",
       "2      3  The Marvelous Mrs. Maisel           2017.0                      3.0   \n",
       "3      4     Four More Shots Please           2019.0                      2.0   \n",
       "4      5                    Fleabag           2016.0                      2.0   \n",
       "5      6             Made in Heaven           2019.0                      1.0   \n",
       "6      7                 Homecoming           2018.0                      2.0   \n",
       "7      8                   Mirzapur           2018.0                      1.0   \n",
       "8      9             The Family Man           2019.0                      1.0   \n",
       "9     10                Modern Love           2019.0                      1.0   \n",
       "\n",
       "  Language                   Genre  IMDb rating Age of viewers  \n",
       "0    Hindi                   Drama          7.5            18+  \n",
       "1  English           Sci-fi comedy          8.1            16+  \n",
       "2  English           Drama, Comedy          8.7            16+  \n",
       "3    Hindi           Drama, Comedy          5.3            18+  \n",
       "4  English                  Comedy          8.7            18+  \n",
       "5    Hindi                   Drama          8.3            18+  \n",
       "6  English                   Drama          7.5            16+  \n",
       "7    Hindi                   Drama          8.5            18+  \n",
       "8    Hindi           Drama, Action          8.6            18+  \n",
       "9  English  Drama, Romance, Comedy          8.0            16+  "
      ]
     },
     "execution_count": 4,
     "metadata": {},
     "output_type": "execute_result"
    }
   ],
   "source": [
    "df.head(10)"
   ]
  },
  {
   "cell_type": "code",
   "execution_count": 5,
   "metadata": {},
   "outputs": [
    {
     "name": "stdout",
     "output_type": "stream",
     "text": [
      "<class 'pandas.core.frame.DataFrame'>\n",
      "RangeIndex: 395 entries, 0 to 394\n",
      "Data columns (total 8 columns):\n",
      " #   Column                   Non-Null Count  Dtype  \n",
      "---  ------                   --------------  -----  \n",
      " 0   S.no.                    395 non-null    int64  \n",
      " 1   Name of the show         393 non-null    object \n",
      " 2   Year of release          393 non-null    float64\n",
      " 3   No of seasons available  393 non-null    float64\n",
      " 4   Language                 393 non-null    object \n",
      " 5   Genre                    393 non-null    object \n",
      " 6   IMDb rating              223 non-null    float64\n",
      " 7   Age of viewers           393 non-null    object \n",
      "dtypes: float64(3), int64(1), object(4)\n",
      "memory usage: 24.8+ KB\n"
     ]
    }
   ],
   "source": [
    "df.info()"
   ]
  },
  {
   "cell_type": "code",
   "execution_count": 6,
   "metadata": {},
   "outputs": [
    {
     "data": {
      "text/plain": [
       "(395, 8)"
      ]
     },
     "execution_count": 6,
     "metadata": {},
     "output_type": "execute_result"
    }
   ],
   "source": [
    "df.shape"
   ]
  },
  {
   "cell_type": "code",
   "execution_count": 7,
   "metadata": {},
   "outputs": [
    {
     "data": {
      "text/plain": [
       "Index(['S.no.', 'Name of the show', 'Year of release',\n",
       "       'No of seasons available', 'Language', 'Genre', 'IMDb rating',\n",
       "       'Age of viewers'],\n",
       "      dtype='object')"
      ]
     },
     "execution_count": 7,
     "metadata": {},
     "output_type": "execute_result"
    }
   ],
   "source": [
    "df.columns"
   ]
  },
  {
   "cell_type": "code",
   "execution_count": 8,
   "metadata": {},
   "outputs": [
    {
     "data": {
      "text/html": [
       "<div>\n",
       "<style scoped>\n",
       "    .dataframe tbody tr th:only-of-type {\n",
       "        vertical-align: middle;\n",
       "    }\n",
       "\n",
       "    .dataframe tbody tr th {\n",
       "        vertical-align: top;\n",
       "    }\n",
       "\n",
       "    .dataframe thead th {\n",
       "        text-align: right;\n",
       "    }\n",
       "</style>\n",
       "<table border=\"1\" class=\"dataframe\">\n",
       "  <thead>\n",
       "    <tr style=\"text-align: right;\">\n",
       "      <th></th>\n",
       "      <th>S.no.</th>\n",
       "      <th>Name of the show</th>\n",
       "      <th>Year of release</th>\n",
       "      <th>No of seasons available</th>\n",
       "      <th>Language</th>\n",
       "      <th>Genre</th>\n",
       "      <th>IMDb rating</th>\n",
       "      <th>Age of viewers</th>\n",
       "    </tr>\n",
       "  </thead>\n",
       "  <tbody>\n",
       "    <tr>\n",
       "      <th>390</th>\n",
       "      <td>391</td>\n",
       "      <td>The 2018 Rose Parade Hosted by Cord &amp; Tish</td>\n",
       "      <td>2018.0</td>\n",
       "      <td>1.0</td>\n",
       "      <td>English</td>\n",
       "      <td>Comedy</td>\n",
       "      <td>NaN</td>\n",
       "      <td>All</td>\n",
       "    </tr>\n",
       "    <tr>\n",
       "      <th>391</th>\n",
       "      <td>392</td>\n",
       "      <td>Aliens Love Underpants And…</td>\n",
       "      <td>2017.0</td>\n",
       "      <td>1.0</td>\n",
       "      <td>English</td>\n",
       "      <td>Kids</td>\n",
       "      <td>NaN</td>\n",
       "      <td>All</td>\n",
       "    </tr>\n",
       "    <tr>\n",
       "      <th>392</th>\n",
       "      <td>393</td>\n",
       "      <td>Gina Brillon: The Floor is Lava</td>\n",
       "      <td>2020.0</td>\n",
       "      <td>1.0</td>\n",
       "      <td>English</td>\n",
       "      <td>Comedy</td>\n",
       "      <td>NaN</td>\n",
       "      <td>16+</td>\n",
       "    </tr>\n",
       "    <tr>\n",
       "      <th>393</th>\n",
       "      <td>394</td>\n",
       "      <td>NaN</td>\n",
       "      <td>NaN</td>\n",
       "      <td>NaN</td>\n",
       "      <td>NaN</td>\n",
       "      <td>NaN</td>\n",
       "      <td>NaN</td>\n",
       "      <td>NaN</td>\n",
       "    </tr>\n",
       "    <tr>\n",
       "      <th>394</th>\n",
       "      <td>395</td>\n",
       "      <td>NaN</td>\n",
       "      <td>NaN</td>\n",
       "      <td>NaN</td>\n",
       "      <td>NaN</td>\n",
       "      <td>NaN</td>\n",
       "      <td>NaN</td>\n",
       "      <td>NaN</td>\n",
       "    </tr>\n",
       "  </tbody>\n",
       "</table>\n",
       "</div>"
      ],
      "text/plain": [
       "     S.no.                            Name of the show  Year of release  \\\n",
       "390    391  The 2018 Rose Parade Hosted by Cord & Tish           2018.0   \n",
       "391    392                 Aliens Love Underpants And…           2017.0   \n",
       "392    393             Gina Brillon: The Floor is Lava           2020.0   \n",
       "393    394                                         NaN              NaN   \n",
       "394    395                                         NaN              NaN   \n",
       "\n",
       "     No of seasons available Language   Genre  IMDb rating Age of viewers  \n",
       "390                      1.0  English  Comedy          NaN            All  \n",
       "391                      1.0  English    Kids          NaN            All  \n",
       "392                      1.0  English  Comedy          NaN            16+  \n",
       "393                      NaN      NaN     NaN          NaN            NaN  \n",
       "394                      NaN      NaN     NaN          NaN            NaN  "
      ]
     },
     "execution_count": 8,
     "metadata": {},
     "output_type": "execute_result"
    }
   ],
   "source": [
    "df.tail()"
   ]
  },
  {
   "cell_type": "code",
   "execution_count": 9,
   "metadata": {},
   "outputs": [],
   "source": [
    "df.drop(columns=['S.no.'], inplace=True)"
   ]
  },
  {
   "cell_type": "code",
   "execution_count": 10,
   "metadata": {},
   "outputs": [
    {
     "data": {
      "text/html": [
       "<div>\n",
       "<style scoped>\n",
       "    .dataframe tbody tr th:only-of-type {\n",
       "        vertical-align: middle;\n",
       "    }\n",
       "\n",
       "    .dataframe tbody tr th {\n",
       "        vertical-align: top;\n",
       "    }\n",
       "\n",
       "    .dataframe thead th {\n",
       "        text-align: right;\n",
       "    }\n",
       "</style>\n",
       "<table border=\"1\" class=\"dataframe\">\n",
       "  <thead>\n",
       "    <tr style=\"text-align: right;\">\n",
       "      <th></th>\n",
       "      <th>Name of the show</th>\n",
       "      <th>Year of release</th>\n",
       "      <th>No of seasons available</th>\n",
       "      <th>Language</th>\n",
       "      <th>Genre</th>\n",
       "      <th>IMDb rating</th>\n",
       "      <th>Age of viewers</th>\n",
       "    </tr>\n",
       "  </thead>\n",
       "  <tbody>\n",
       "    <tr>\n",
       "      <th>0</th>\n",
       "      <td>Pataal Lok</td>\n",
       "      <td>2020.0</td>\n",
       "      <td>1.0</td>\n",
       "      <td>Hindi</td>\n",
       "      <td>Drama</td>\n",
       "      <td>7.5</td>\n",
       "      <td>18+</td>\n",
       "    </tr>\n",
       "    <tr>\n",
       "      <th>1</th>\n",
       "      <td>Upload</td>\n",
       "      <td>2020.0</td>\n",
       "      <td>1.0</td>\n",
       "      <td>English</td>\n",
       "      <td>Sci-fi comedy</td>\n",
       "      <td>8.1</td>\n",
       "      <td>16+</td>\n",
       "    </tr>\n",
       "    <tr>\n",
       "      <th>2</th>\n",
       "      <td>The Marvelous Mrs. Maisel</td>\n",
       "      <td>2017.0</td>\n",
       "      <td>3.0</td>\n",
       "      <td>English</td>\n",
       "      <td>Drama, Comedy</td>\n",
       "      <td>8.7</td>\n",
       "      <td>16+</td>\n",
       "    </tr>\n",
       "    <tr>\n",
       "      <th>3</th>\n",
       "      <td>Four More Shots Please</td>\n",
       "      <td>2019.0</td>\n",
       "      <td>2.0</td>\n",
       "      <td>Hindi</td>\n",
       "      <td>Drama, Comedy</td>\n",
       "      <td>5.3</td>\n",
       "      <td>18+</td>\n",
       "    </tr>\n",
       "    <tr>\n",
       "      <th>4</th>\n",
       "      <td>Fleabag</td>\n",
       "      <td>2016.0</td>\n",
       "      <td>2.0</td>\n",
       "      <td>English</td>\n",
       "      <td>Comedy</td>\n",
       "      <td>8.7</td>\n",
       "      <td>18+</td>\n",
       "    </tr>\n",
       "    <tr>\n",
       "      <th>5</th>\n",
       "      <td>Made in Heaven</td>\n",
       "      <td>2019.0</td>\n",
       "      <td>1.0</td>\n",
       "      <td>Hindi</td>\n",
       "      <td>Drama</td>\n",
       "      <td>8.3</td>\n",
       "      <td>18+</td>\n",
       "    </tr>\n",
       "    <tr>\n",
       "      <th>6</th>\n",
       "      <td>Homecoming</td>\n",
       "      <td>2018.0</td>\n",
       "      <td>2.0</td>\n",
       "      <td>English</td>\n",
       "      <td>Drama</td>\n",
       "      <td>7.5</td>\n",
       "      <td>16+</td>\n",
       "    </tr>\n",
       "    <tr>\n",
       "      <th>7</th>\n",
       "      <td>Mirzapur</td>\n",
       "      <td>2018.0</td>\n",
       "      <td>1.0</td>\n",
       "      <td>Hindi</td>\n",
       "      <td>Drama</td>\n",
       "      <td>8.5</td>\n",
       "      <td>18+</td>\n",
       "    </tr>\n",
       "    <tr>\n",
       "      <th>8</th>\n",
       "      <td>The Family Man</td>\n",
       "      <td>2019.0</td>\n",
       "      <td>1.0</td>\n",
       "      <td>Hindi</td>\n",
       "      <td>Drama, Action</td>\n",
       "      <td>8.6</td>\n",
       "      <td>18+</td>\n",
       "    </tr>\n",
       "    <tr>\n",
       "      <th>9</th>\n",
       "      <td>Modern Love</td>\n",
       "      <td>2019.0</td>\n",
       "      <td>1.0</td>\n",
       "      <td>English</td>\n",
       "      <td>Drama, Romance, Comedy</td>\n",
       "      <td>8.0</td>\n",
       "      <td>16+</td>\n",
       "    </tr>\n",
       "  </tbody>\n",
       "</table>\n",
       "</div>"
      ],
      "text/plain": [
       "            Name of the show  Year of release  No of seasons available  \\\n",
       "0                 Pataal Lok           2020.0                      1.0   \n",
       "1                     Upload           2020.0                      1.0   \n",
       "2  The Marvelous Mrs. Maisel           2017.0                      3.0   \n",
       "3     Four More Shots Please           2019.0                      2.0   \n",
       "4                    Fleabag           2016.0                      2.0   \n",
       "5             Made in Heaven           2019.0                      1.0   \n",
       "6                 Homecoming           2018.0                      2.0   \n",
       "7                   Mirzapur           2018.0                      1.0   \n",
       "8             The Family Man           2019.0                      1.0   \n",
       "9                Modern Love           2019.0                      1.0   \n",
       "\n",
       "  Language                   Genre  IMDb rating Age of viewers  \n",
       "0    Hindi                   Drama          7.5            18+  \n",
       "1  English           Sci-fi comedy          8.1            16+  \n",
       "2  English           Drama, Comedy          8.7            16+  \n",
       "3    Hindi           Drama, Comedy          5.3            18+  \n",
       "4  English                  Comedy          8.7            18+  \n",
       "5    Hindi                   Drama          8.3            18+  \n",
       "6  English                   Drama          7.5            16+  \n",
       "7    Hindi                   Drama          8.5            18+  \n",
       "8    Hindi           Drama, Action          8.6            18+  \n",
       "9  English  Drama, Romance, Comedy          8.0            16+  "
      ]
     },
     "execution_count": 10,
     "metadata": {},
     "output_type": "execute_result"
    }
   ],
   "source": [
    "df.head(10)"
   ]
  },
  {
   "cell_type": "code",
   "execution_count": 11,
   "metadata": {},
   "outputs": [
    {
     "name": "stdout",
     "output_type": "stream",
     "text": [
      "English       314\n",
      "Hindi          39\n",
      "Japanese       13\n",
      "Italiano        7\n",
      "Spanish         6\n",
      "Nederlands      2\n",
      "Serbian         2\n",
      "Marathi         2\n",
      "Deutsch         2\n",
      "French          2\n",
      "Russian         1\n",
      "Hebrew          1\n",
      "Telugu          1\n",
      "Suomi           1\n",
      "Name: Language, dtype: int64\n"
     ]
    }
   ],
   "source": [
    "languages = df['Language'].value_counts()\n",
    "print(languages)"
   ]
  },
  {
   "cell_type": "code",
   "execution_count": 12,
   "metadata": {},
   "outputs": [
    {
     "name": "stdout",
     "output_type": "stream",
     "text": [
      "2018.0    62\n",
      "2019.0    46\n",
      "2017.0    44\n",
      "2016.0    39\n",
      "2020.0    27\n",
      "2015.0    26\n",
      "2014.0    22\n",
      "2013.0    12\n",
      "2012.0    11\n",
      "2010.0     9\n",
      "2007.0     9\n",
      "2005.0     8\n",
      "2011.0     7\n",
      "2009.0     6\n",
      "2008.0     5\n",
      "1986.0     4\n",
      "1998.0     4\n",
      "1990.0     3\n",
      "2006.0     3\n",
      "1960.0     3\n",
      "2004.0     3\n",
      "1993.0     3\n",
      "2000.0     2\n",
      "1987.0     2\n",
      "1997.0     2\n",
      "1999.0     2\n",
      "1992.0     2\n",
      "1959.0     2\n",
      "1991.0     2\n",
      "1985.0     2\n",
      "2003.0     2\n",
      "1956.0     2\n",
      "1995.0     2\n",
      "1958.0     2\n",
      "1996.0     2\n",
      "1988.0     1\n",
      "2001.0     1\n",
      "1926.0     1\n",
      "2002.0     1\n",
      "1981.0     1\n",
      "1980.0     1\n",
      "1984.0     1\n",
      "1983.0     1\n",
      "1957.0     1\n",
      "1979.0     1\n",
      "1967.0     1\n",
      "Name: Year of release, dtype: int64\n"
     ]
    }
   ],
   "source": [
    "date_of_release = df['Year of release'].value_counts()\n",
    "print(date_of_release)"
   ]
  },
  {
   "cell_type": "code",
   "execution_count": 13,
   "metadata": {},
   "outputs": [
    {
     "data": {
      "text/plain": [
       "0      2020.0\n",
       "1      2020.0\n",
       "2      2017.0\n",
       "3      2019.0\n",
       "4      2016.0\n",
       "        ...  \n",
       "390    2018.0\n",
       "391    2017.0\n",
       "392    2020.0\n",
       "393       nan\n",
       "394       nan\n",
       "Name: Year of release, Length: 395, dtype: object"
      ]
     },
     "execution_count": 13,
     "metadata": {},
     "output_type": "execute_result"
    }
   ],
   "source": [
    "df['Year of release'] = df['Year of release'].astype(str)\n",
    "df['Year of release']"
   ]
  },
  {
   "cell_type": "code",
   "execution_count": 14,
   "metadata": {},
   "outputs": [
    {
     "data": {
      "text/plain": [
       "0      2020.0\n",
       "1      2020.0\n",
       "2      2017.0\n",
       "3      2019.0\n",
       "4      2016.0\n",
       "        ...  \n",
       "390    2018.0\n",
       "391    2017.0\n",
       "392    2020.0\n",
       "393         0\n",
       "394         0\n",
       "Name: Year of release, Length: 395, dtype: object"
      ]
     },
     "execution_count": 14,
     "metadata": {},
     "output_type": "execute_result"
    }
   ],
   "source": [
    "df['Year of release'] = df['Year of release'].str.replace('nan','0') \n",
    "df['Year of release']"
   ]
  },
  {
   "cell_type": "code",
   "execution_count": 15,
   "metadata": {},
   "outputs": [
    {
     "data": {
      "text/plain": [
       "0      2020.0\n",
       "1      2020.0\n",
       "2      2017.0\n",
       "3      2019.0\n",
       "4      2016.0\n",
       "        ...  \n",
       "390    2018.0\n",
       "391    2017.0\n",
       "392    2020.0\n",
       "393       0.0\n",
       "394       0.0\n",
       "Name: Year of release, Length: 395, dtype: float64"
      ]
     },
     "execution_count": 15,
     "metadata": {},
     "output_type": "execute_result"
    }
   ],
   "source": [
    "df['Year of release'] = df['Year of release'].astype(float)\n",
    "df['Year of release']"
   ]
  },
  {
   "cell_type": "code",
   "execution_count": 16,
   "metadata": {},
   "outputs": [
    {
     "data": {
      "text/plain": [
       "0      2020.0\n",
       "1      2020.0\n",
       "2      2017.0\n",
       "3      2019.0\n",
       "4      2016.0\n",
       "        ...  \n",
       "390    2018.0\n",
       "391    2017.0\n",
       "392    2020.0\n",
       "393       0.0\n",
       "394       0.0\n",
       "Name: Year of release, Length: 395, dtype: float64"
      ]
     },
     "execution_count": 16,
     "metadata": {},
     "output_type": "execute_result"
    }
   ],
   "source": [
    "df['Year of release'].astype(str)\n",
    "df['Year of release']"
   ]
  },
  {
   "cell_type": "code",
   "execution_count": 17,
   "metadata": {},
   "outputs": [
    {
     "data": {
      "text/plain": [
       "0      2020\n",
       "1      2020\n",
       "2      2017\n",
       "3      2019\n",
       "4      2016\n",
       "       ... \n",
       "390    2018\n",
       "391    2017\n",
       "392    2020\n",
       "393       0\n",
       "394       0\n",
       "Name: Year of release, Length: 395, dtype: int64"
      ]
     },
     "execution_count": 17,
     "metadata": {},
     "output_type": "execute_result"
    }
   ],
   "source": [
    "df['Year of release'] = df['Year of release'].astype(np.int64)  \n",
    "df['Year of release']"
   ]
  },
  {
   "cell_type": "code",
   "execution_count": 18,
   "metadata": {},
   "outputs": [
    {
     "data": {
      "text/plain": [
       "0      1.0\n",
       "1      1.0\n",
       "2      3.0\n",
       "3      2.0\n",
       "4      2.0\n",
       "      ... \n",
       "390    1.0\n",
       "391    1.0\n",
       "392    1.0\n",
       "393    nan\n",
       "394    nan\n",
       "Name: No of seasons available, Length: 395, dtype: object"
      ]
     },
     "execution_count": 18,
     "metadata": {},
     "output_type": "execute_result"
    }
   ],
   "source": [
    "df['No of seasons available'] = df['No of seasons available'].astype(str)\n",
    "df['No of seasons available']"
   ]
  },
  {
   "cell_type": "code",
   "execution_count": 19,
   "metadata": {},
   "outputs": [
    {
     "data": {
      "text/plain": [
       "0      1.0\n",
       "1      1.0\n",
       "2      3.0\n",
       "3      2.0\n",
       "4      2.0\n",
       "      ... \n",
       "390    1.0\n",
       "391    1.0\n",
       "392    1.0\n",
       "393      0\n",
       "394      0\n",
       "Name: No of seasons available, Length: 395, dtype: object"
      ]
     },
     "execution_count": 19,
     "metadata": {},
     "output_type": "execute_result"
    }
   ],
   "source": [
    "df['No of seasons available'] = df['No of seasons available'].str.replace('nan','0')\n",
    "df['No of seasons available']"
   ]
  },
  {
   "cell_type": "code",
   "execution_count": 20,
   "metadata": {},
   "outputs": [],
   "source": [
    "df['No of seasons available'] = df['No of seasons available'].str.replace('NaN','0')"
   ]
  },
  {
   "cell_type": "code",
   "execution_count": 21,
   "metadata": {},
   "outputs": [],
   "source": [
    "df['No of seasons available'] = df['No of seasons available'].str.replace('0','1')"
   ]
  },
  {
   "cell_type": "code",
   "execution_count": 22,
   "metadata": {},
   "outputs": [
    {
     "data": {
      "text/plain": [
       "0      1.1\n",
       "1      1.1\n",
       "2      3.1\n",
       "3      2.1\n",
       "4      2.1\n",
       "      ... \n",
       "390    1.1\n",
       "391    1.1\n",
       "392    1.1\n",
       "393    1.0\n",
       "394    1.0\n",
       "Name: No of seasons available, Length: 395, dtype: float64"
      ]
     },
     "execution_count": 22,
     "metadata": {},
     "output_type": "execute_result"
    }
   ],
   "source": [
    "df['No of seasons available'] = df['No of seasons available'].astype(float)\n",
    "df['No of seasons available']"
   ]
  },
  {
   "cell_type": "code",
   "execution_count": 23,
   "metadata": {},
   "outputs": [
    {
     "data": {
      "text/plain": [
       "0      1\n",
       "1      1\n",
       "2      3\n",
       "3      2\n",
       "4      2\n",
       "      ..\n",
       "390    1\n",
       "391    1\n",
       "392    1\n",
       "393    1\n",
       "394    1\n",
       "Name: No of seasons available, Length: 395, dtype: int64"
      ]
     },
     "execution_count": 23,
     "metadata": {},
     "output_type": "execute_result"
    }
   ],
   "source": [
    "df['No of seasons available'] = df['No of seasons available'].astype(np.int64)\n",
    "df['No of seasons available']"
   ]
  },
  {
   "cell_type": "code",
   "execution_count": 24,
   "metadata": {},
   "outputs": [
    {
     "data": {
      "text/html": [
       "<div>\n",
       "<style scoped>\n",
       "    .dataframe tbody tr th:only-of-type {\n",
       "        vertical-align: middle;\n",
       "    }\n",
       "\n",
       "    .dataframe tbody tr th {\n",
       "        vertical-align: top;\n",
       "    }\n",
       "\n",
       "    .dataframe thead th {\n",
       "        text-align: right;\n",
       "    }\n",
       "</style>\n",
       "<table border=\"1\" class=\"dataframe\">\n",
       "  <thead>\n",
       "    <tr style=\"text-align: right;\">\n",
       "      <th></th>\n",
       "      <th>Name of the show</th>\n",
       "      <th>Year of release</th>\n",
       "      <th>No of seasons available</th>\n",
       "      <th>Language</th>\n",
       "      <th>Genre</th>\n",
       "      <th>IMDb rating</th>\n",
       "      <th>Age of viewers</th>\n",
       "    </tr>\n",
       "  </thead>\n",
       "  <tbody>\n",
       "    <tr>\n",
       "      <th>0</th>\n",
       "      <td>Pataal Lok</td>\n",
       "      <td>2020</td>\n",
       "      <td>1</td>\n",
       "      <td>Hindi</td>\n",
       "      <td>Drama</td>\n",
       "      <td>7.5</td>\n",
       "      <td>18+</td>\n",
       "    </tr>\n",
       "    <tr>\n",
       "      <th>1</th>\n",
       "      <td>Upload</td>\n",
       "      <td>2020</td>\n",
       "      <td>1</td>\n",
       "      <td>English</td>\n",
       "      <td>Sci-fi comedy</td>\n",
       "      <td>8.1</td>\n",
       "      <td>16+</td>\n",
       "    </tr>\n",
       "    <tr>\n",
       "      <th>2</th>\n",
       "      <td>The Marvelous Mrs. Maisel</td>\n",
       "      <td>2017</td>\n",
       "      <td>3</td>\n",
       "      <td>English</td>\n",
       "      <td>Drama, Comedy</td>\n",
       "      <td>8.7</td>\n",
       "      <td>16+</td>\n",
       "    </tr>\n",
       "    <tr>\n",
       "      <th>3</th>\n",
       "      <td>Four More Shots Please</td>\n",
       "      <td>2019</td>\n",
       "      <td>2</td>\n",
       "      <td>Hindi</td>\n",
       "      <td>Drama, Comedy</td>\n",
       "      <td>5.3</td>\n",
       "      <td>18+</td>\n",
       "    </tr>\n",
       "    <tr>\n",
       "      <th>4</th>\n",
       "      <td>Fleabag</td>\n",
       "      <td>2016</td>\n",
       "      <td>2</td>\n",
       "      <td>English</td>\n",
       "      <td>Comedy</td>\n",
       "      <td>8.7</td>\n",
       "      <td>18+</td>\n",
       "    </tr>\n",
       "    <tr>\n",
       "      <th>...</th>\n",
       "      <td>...</td>\n",
       "      <td>...</td>\n",
       "      <td>...</td>\n",
       "      <td>...</td>\n",
       "      <td>...</td>\n",
       "      <td>...</td>\n",
       "      <td>...</td>\n",
       "    </tr>\n",
       "    <tr>\n",
       "      <th>390</th>\n",
       "      <td>The 2018 Rose Parade Hosted by Cord &amp; Tish</td>\n",
       "      <td>2018</td>\n",
       "      <td>1</td>\n",
       "      <td>English</td>\n",
       "      <td>Comedy</td>\n",
       "      <td>NaN</td>\n",
       "      <td>All</td>\n",
       "    </tr>\n",
       "    <tr>\n",
       "      <th>391</th>\n",
       "      <td>Aliens Love Underpants And…</td>\n",
       "      <td>2017</td>\n",
       "      <td>1</td>\n",
       "      <td>English</td>\n",
       "      <td>Kids</td>\n",
       "      <td>NaN</td>\n",
       "      <td>All</td>\n",
       "    </tr>\n",
       "    <tr>\n",
       "      <th>392</th>\n",
       "      <td>Gina Brillon: The Floor is Lava</td>\n",
       "      <td>2020</td>\n",
       "      <td>1</td>\n",
       "      <td>English</td>\n",
       "      <td>Comedy</td>\n",
       "      <td>NaN</td>\n",
       "      <td>16+</td>\n",
       "    </tr>\n",
       "    <tr>\n",
       "      <th>393</th>\n",
       "      <td>NaN</td>\n",
       "      <td>0</td>\n",
       "      <td>1</td>\n",
       "      <td>NaN</td>\n",
       "      <td>NaN</td>\n",
       "      <td>NaN</td>\n",
       "      <td>NaN</td>\n",
       "    </tr>\n",
       "    <tr>\n",
       "      <th>394</th>\n",
       "      <td>NaN</td>\n",
       "      <td>0</td>\n",
       "      <td>1</td>\n",
       "      <td>NaN</td>\n",
       "      <td>NaN</td>\n",
       "      <td>NaN</td>\n",
       "      <td>NaN</td>\n",
       "    </tr>\n",
       "  </tbody>\n",
       "</table>\n",
       "<p>395 rows × 7 columns</p>\n",
       "</div>"
      ],
      "text/plain": [
       "                               Name of the show  Year of release  \\\n",
       "0                                    Pataal Lok             2020   \n",
       "1                                        Upload             2020   \n",
       "2                     The Marvelous Mrs. Maisel             2017   \n",
       "3                        Four More Shots Please             2019   \n",
       "4                                       Fleabag             2016   \n",
       "..                                          ...              ...   \n",
       "390  The 2018 Rose Parade Hosted by Cord & Tish             2018   \n",
       "391                 Aliens Love Underpants And…             2017   \n",
       "392             Gina Brillon: The Floor is Lava             2020   \n",
       "393                                         NaN                0   \n",
       "394                                         NaN                0   \n",
       "\n",
       "     No of seasons available Language          Genre  IMDb rating  \\\n",
       "0                          1    Hindi          Drama          7.5   \n",
       "1                          1  English  Sci-fi comedy          8.1   \n",
       "2                          3  English  Drama, Comedy          8.7   \n",
       "3                          2    Hindi  Drama, Comedy          5.3   \n",
       "4                          2  English         Comedy          8.7   \n",
       "..                       ...      ...            ...          ...   \n",
       "390                        1  English         Comedy          NaN   \n",
       "391                        1  English           Kids          NaN   \n",
       "392                        1  English         Comedy          NaN   \n",
       "393                        1      NaN            NaN          NaN   \n",
       "394                        1      NaN            NaN          NaN   \n",
       "\n",
       "    Age of viewers  \n",
       "0              18+  \n",
       "1              16+  \n",
       "2              16+  \n",
       "3              18+  \n",
       "4              18+  \n",
       "..             ...  \n",
       "390            All  \n",
       "391            All  \n",
       "392            16+  \n",
       "393            NaN  \n",
       "394            NaN  \n",
       "\n",
       "[395 rows x 7 columns]"
      ]
     },
     "execution_count": 24,
     "metadata": {},
     "output_type": "execute_result"
    }
   ],
   "source": [
    "df"
   ]
  },
  {
   "cell_type": "code",
   "execution_count": 25,
   "metadata": {},
   "outputs": [
    {
     "data": {
      "text/plain": [
       "Drama                                         125\n",
       "Comedy                                         97\n",
       "Kids                                           29\n",
       "Action                                         26\n",
       "Drama, Comedy                                  15\n",
       "Drama, Suspense                                12\n",
       "Arts, Entertainment, Culture                   12\n",
       "Drama, Action                                  11\n",
       "Drama, Sci-fi                                   7\n",
       "Sci-fi                                          5\n",
       "Drama, Romance                                  4\n",
       "Documentary                                     3\n",
       "Drama, Action, Suspense                         3\n",
       "Drama, Horror                                   2\n",
       "Drama, Documentary                              2\n",
       "Drama, Suspense, Action                         2\n",
       "Drama, Horror, Suspense                         2\n",
       "Adventure                                       2\n",
       "Drama, Fantasy                                  2\n",
       "Sports, Drama                                   2\n",
       "Kids, Animation                                 2\n",
       "Animation                                       2\n",
       "Animation, Drama                                1\n",
       "Fantasy                                         1\n",
       "Sports                                          1\n",
       "Comedy, Action                                  1\n",
       "Drama, Sports                                   1\n",
       "Action, Comedy                                  1\n",
       "Drama, Suspense, Horror                         1\n",
       "Drama, Comeddy                                  1\n",
       "Drama, Comedy, LGBTQ                            1\n",
       "Drama, Action, Adventure                        1\n",
       "Drama, LGBTQ, Arts, Entertainment, Culture      1\n",
       "Fantasy, Comedy                                 1\n",
       "Horror                                          1\n",
       "Drama, Horror, Fantasy                          1\n",
       "Drama, Romance, Comedy                          1\n",
       "Comedy, Arts, Entertainment, Culture            1\n",
       "Drama, Suspense, Adventure                      1\n",
       "Drama, Comedy, Action                           1\n",
       "Sci-fi comedy                                   1\n",
       "Sci-fi, Action, Suspense                        1\n",
       "Sci-fi, Drama, Suspense                         1\n",
       "Drama, Sci-fi, Suspense, Action                 1\n",
       "Comedy, Drama                                   1\n",
       "Drama, Horror, Romance, Suspense                1\n",
       "Drama, Suspense, Fantasy                        1\n",
       "Drama, Action, Sci-fi                           1\n",
       "Name: Genre, dtype: int64"
      ]
     },
     "execution_count": 25,
     "metadata": {},
     "output_type": "execute_result"
    }
   ],
   "source": [
    "generos = df['Genre'].value_counts()\n",
    "generos"
   ]
  },
  {
   "cell_type": "code",
   "execution_count": 26,
   "metadata": {
    "scrolled": true
   },
   "outputs": [
    {
     "data": {
      "text/html": [
       "<div>\n",
       "<style scoped>\n",
       "    .dataframe tbody tr th:only-of-type {\n",
       "        vertical-align: middle;\n",
       "    }\n",
       "\n",
       "    .dataframe tbody tr th {\n",
       "        vertical-align: top;\n",
       "    }\n",
       "\n",
       "    .dataframe thead th {\n",
       "        text-align: right;\n",
       "    }\n",
       "</style>\n",
       "<table border=\"1\" class=\"dataframe\">\n",
       "  <thead>\n",
       "    <tr style=\"text-align: right;\">\n",
       "      <th></th>\n",
       "      <th>Name of the show</th>\n",
       "      <th>Year of release</th>\n",
       "      <th>No of seasons available</th>\n",
       "      <th>Language</th>\n",
       "      <th>Genre</th>\n",
       "      <th>IMDb rating</th>\n",
       "      <th>Age of viewers</th>\n",
       "    </tr>\n",
       "  </thead>\n",
       "  <tbody>\n",
       "    <tr>\n",
       "      <th>1</th>\n",
       "      <td>Upload</td>\n",
       "      <td>2020</td>\n",
       "      <td>1</td>\n",
       "      <td>English</td>\n",
       "      <td>Sci-fi comedy</td>\n",
       "      <td>8.1</td>\n",
       "      <td>16+</td>\n",
       "    </tr>\n",
       "    <tr>\n",
       "      <th>2</th>\n",
       "      <td>The Marvelous Mrs. Maisel</td>\n",
       "      <td>2017</td>\n",
       "      <td>3</td>\n",
       "      <td>English</td>\n",
       "      <td>Drama, Comedy</td>\n",
       "      <td>8.7</td>\n",
       "      <td>16+</td>\n",
       "    </tr>\n",
       "    <tr>\n",
       "      <th>4</th>\n",
       "      <td>Fleabag</td>\n",
       "      <td>2016</td>\n",
       "      <td>2</td>\n",
       "      <td>English</td>\n",
       "      <td>Comedy</td>\n",
       "      <td>8.7</td>\n",
       "      <td>18+</td>\n",
       "    </tr>\n",
       "    <tr>\n",
       "      <th>6</th>\n",
       "      <td>Homecoming</td>\n",
       "      <td>2018</td>\n",
       "      <td>2</td>\n",
       "      <td>English</td>\n",
       "      <td>Drama</td>\n",
       "      <td>7.5</td>\n",
       "      <td>16+</td>\n",
       "    </tr>\n",
       "    <tr>\n",
       "      <th>9</th>\n",
       "      <td>Modern Love</td>\n",
       "      <td>2019</td>\n",
       "      <td>1</td>\n",
       "      <td>English</td>\n",
       "      <td>Drama, Romance, Comedy</td>\n",
       "      <td>8.0</td>\n",
       "      <td>16+</td>\n",
       "    </tr>\n",
       "    <tr>\n",
       "      <th>...</th>\n",
       "      <td>...</td>\n",
       "      <td>...</td>\n",
       "      <td>...</td>\n",
       "      <td>...</td>\n",
       "      <td>...</td>\n",
       "      <td>...</td>\n",
       "      <td>...</td>\n",
       "    </tr>\n",
       "    <tr>\n",
       "      <th>387</th>\n",
       "      <td>Still Standing</td>\n",
       "      <td>2015</td>\n",
       "      <td>4</td>\n",
       "      <td>English</td>\n",
       "      <td>Comedy</td>\n",
       "      <td>NaN</td>\n",
       "      <td>13+</td>\n",
       "    </tr>\n",
       "    <tr>\n",
       "      <th>389</th>\n",
       "      <td>Short Poppies</td>\n",
       "      <td>2014</td>\n",
       "      <td>1</td>\n",
       "      <td>English</td>\n",
       "      <td>Comedy</td>\n",
       "      <td>NaN</td>\n",
       "      <td>13+</td>\n",
       "    </tr>\n",
       "    <tr>\n",
       "      <th>390</th>\n",
       "      <td>The 2018 Rose Parade Hosted by Cord &amp; Tish</td>\n",
       "      <td>2018</td>\n",
       "      <td>1</td>\n",
       "      <td>English</td>\n",
       "      <td>Comedy</td>\n",
       "      <td>NaN</td>\n",
       "      <td>All</td>\n",
       "    </tr>\n",
       "    <tr>\n",
       "      <th>391</th>\n",
       "      <td>Aliens Love Underpants And…</td>\n",
       "      <td>2017</td>\n",
       "      <td>1</td>\n",
       "      <td>English</td>\n",
       "      <td>Kids</td>\n",
       "      <td>NaN</td>\n",
       "      <td>All</td>\n",
       "    </tr>\n",
       "    <tr>\n",
       "      <th>392</th>\n",
       "      <td>Gina Brillon: The Floor is Lava</td>\n",
       "      <td>2020</td>\n",
       "      <td>1</td>\n",
       "      <td>English</td>\n",
       "      <td>Comedy</td>\n",
       "      <td>NaN</td>\n",
       "      <td>16+</td>\n",
       "    </tr>\n",
       "  </tbody>\n",
       "</table>\n",
       "<p>314 rows × 7 columns</p>\n",
       "</div>"
      ],
      "text/plain": [
       "                               Name of the show  Year of release  \\\n",
       "1                                        Upload             2020   \n",
       "2                     The Marvelous Mrs. Maisel             2017   \n",
       "4                                       Fleabag             2016   \n",
       "6                                    Homecoming             2018   \n",
       "9                                   Modern Love             2019   \n",
       "..                                          ...              ...   \n",
       "387                              Still Standing             2015   \n",
       "389                               Short Poppies             2014   \n",
       "390  The 2018 Rose Parade Hosted by Cord & Tish             2018   \n",
       "391                 Aliens Love Underpants And…             2017   \n",
       "392             Gina Brillon: The Floor is Lava             2020   \n",
       "\n",
       "     No of seasons available Language                   Genre  IMDb rating  \\\n",
       "1                          1  English           Sci-fi comedy          8.1   \n",
       "2                          3  English           Drama, Comedy          8.7   \n",
       "4                          2  English                  Comedy          8.7   \n",
       "6                          2  English                   Drama          7.5   \n",
       "9                          1  English  Drama, Romance, Comedy          8.0   \n",
       "..                       ...      ...                     ...          ...   \n",
       "387                        4  English                  Comedy          NaN   \n",
       "389                        1  English                  Comedy          NaN   \n",
       "390                        1  English                  Comedy          NaN   \n",
       "391                        1  English                    Kids          NaN   \n",
       "392                        1  English                  Comedy          NaN   \n",
       "\n",
       "    Age of viewers  \n",
       "1              16+  \n",
       "2              16+  \n",
       "4              18+  \n",
       "6              16+  \n",
       "9              16+  \n",
       "..             ...  \n",
       "387            13+  \n",
       "389            13+  \n",
       "390            All  \n",
       "391            All  \n",
       "392            16+  \n",
       "\n",
       "[314 rows x 7 columns]"
      ]
     },
     "execution_count": 26,
     "metadata": {},
     "output_type": "execute_result"
    }
   ],
   "source": [
    "df.loc[df['Language'] == 'English']"
   ]
  },
  {
   "cell_type": "code",
   "execution_count": 27,
   "metadata": {},
   "outputs": [
    {
     "data": {
      "text/plain": [
       "Drama                           125\n",
       "Comedy                           97\n",
       "Kids                             29\n",
       "Action                           26\n",
       "Drama, Comedy                    15\n",
       "Drama, Suspense                  12\n",
       "Arts, Entertainment, Culture     12\n",
       "Drama, Action                    11\n",
       "Drama, Sci-fi                     7\n",
       "Sci-fi                            5\n",
       "Name: Genre, dtype: int64"
      ]
     },
     "execution_count": 27,
     "metadata": {},
     "output_type": "execute_result"
    }
   ],
   "source": [
    "most_gens = df.loc[df['Genre'].notnull(),'Genre'].value_counts().head(10)\n",
    "most_gens"
   ]
  },
  {
   "cell_type": "code",
   "execution_count": 28,
   "metadata": {},
   "outputs": [],
   "source": [
    "most_language = df.loc[df['Language'].notnull(),'Language'].value_counts().head(10)"
   ]
  },
  {
   "cell_type": "code",
   "execution_count": 29,
   "metadata": {
    "scrolled": true
   },
   "outputs": [
    {
     "data": {
      "image/png": "[encoded data removed]",
      "text/plain": [
       "<Figure size 432x288 with 1 Axes>"
      ]
     },
     "metadata": {
      "needs_background": "light"
     },
     "output_type": "display_data"
    }
   ],
   "source": [
    "sns.barplot(x=most_gens, y=most_gens.index)\n",
    "plt.xticks(np.arange(1,30,1))\n",
    "plt.xlabel('Quantidade')\n",
    "plt.ylabel('Genero')\n",
    "plt.tight_layout()\n",
    "plt.title('Gêneros mais vistos');"
   ]
  },
  {
   "cell_type": "code",
   "execution_count": 30,
   "metadata": {},
   "outputs": [],
   "source": [
    "most_language = df.loc[df['Language'].notnull(),'Language'].value_counts().head(10)"
   ]
  },
  {
   "cell_type": "code",
   "execution_count": 31,
   "metadata": {},
   "outputs": [
    {
     "data": {
      "image/png": "[encoded data removed]",
      "text/plain": [
       "<Figure size 432x288 with 1 Axes>"
      ]
     },
     "metadata": {
      "needs_background": "light"
     },
     "output_type": "display_data"
    }
   ],
   "source": [
    "sns.barplot(x=most_language, y=most_language.index)\n",
    "plt.xticks(np.arange(1,30,1))\n",
    "plt.xlabel('Quantidade')\n",
    "plt.ylabel('Idioma')\n",
    "plt.tight_layout()\n",
    "plt.title('Idiomas mais incluídos - Amazon Prime');"
   ]
  },
  {
   "cell_type": "code",
   "execution_count": 32,
   "metadata": {},
   "outputs": [
    {
     "data": {
      "text/html": [
       "<div>\n",
       "<style scoped>\n",
       "    .dataframe tbody tr th:only-of-type {\n",
       "        vertical-align: middle;\n",
       "    }\n",
       "\n",
       "    .dataframe tbody tr th {\n",
       "        vertical-align: top;\n",
       "    }\n",
       "\n",
       "    .dataframe thead th {\n",
       "        text-align: right;\n",
       "    }\n",
       "</style>\n",
       "<table border=\"1\" class=\"dataframe\">\n",
       "  <thead>\n",
       "    <tr style=\"text-align: right;\">\n",
       "      <th></th>\n",
       "      <th>Year of release</th>\n",
       "      <th>No of seasons available</th>\n",
       "      <th>IMDb rating</th>\n",
       "    </tr>\n",
       "  </thead>\n",
       "  <tbody>\n",
       "    <tr>\n",
       "      <th>count</th>\n",
       "      <td>395.000000</td>\n",
       "      <td>395.000000</td>\n",
       "      <td>223.000000</td>\n",
       "    </tr>\n",
       "    <tr>\n",
       "      <th>mean</th>\n",
       "      <td>2001.091139</td>\n",
       "      <td>2.610127</td>\n",
       "      <td>7.390583</td>\n",
       "    </tr>\n",
       "    <tr>\n",
       "      <th>std</th>\n",
       "      <td>143.516078</td>\n",
       "      <td>2.628408</td>\n",
       "      <td>0.917130</td>\n",
       "    </tr>\n",
       "    <tr>\n",
       "      <th>min</th>\n",
       "      <td>0.000000</td>\n",
       "      <td>1.000000</td>\n",
       "      <td>3.700000</td>\n",
       "    </tr>\n",
       "    <tr>\n",
       "      <th>25%</th>\n",
       "      <td>2010.500000</td>\n",
       "      <td>1.000000</td>\n",
       "      <td>6.900000</td>\n",
       "    </tr>\n",
       "    <tr>\n",
       "      <th>50%</th>\n",
       "      <td>2016.000000</td>\n",
       "      <td>2.000000</td>\n",
       "      <td>7.500000</td>\n",
       "    </tr>\n",
       "    <tr>\n",
       "      <th>75%</th>\n",
       "      <td>2018.000000</td>\n",
       "      <td>3.000000</td>\n",
       "      <td>8.000000</td>\n",
       "    </tr>\n",
       "    <tr>\n",
       "      <th>max</th>\n",
       "      <td>2020.000000</td>\n",
       "      <td>21.000000</td>\n",
       "      <td>9.500000</td>\n",
       "    </tr>\n",
       "  </tbody>\n",
       "</table>\n",
       "</div>"
      ],
      "text/plain": [
       "       Year of release  No of seasons available  IMDb rating\n",
       "count       395.000000               395.000000   223.000000\n",
       "mean       2001.091139                 2.610127     7.390583\n",
       "std         143.516078                 2.628408     0.917130\n",
       "min           0.000000                 1.000000     3.700000\n",
       "25%        2010.500000                 1.000000     6.900000\n",
       "50%        2016.000000                 2.000000     7.500000\n",
       "75%        2018.000000                 3.000000     8.000000\n",
       "max        2020.000000                21.000000     9.500000"
      ]
     },
     "execution_count": 32,
     "metadata": {},
     "output_type": "execute_result"
    }
   ],
   "source": [
    "df.describe()"
   ]
  },
  {
   "cell_type": "code",
   "execution_count": 33,
   "metadata": {
    "scrolled": true
   },
   "outputs": [
    {
     "name": "stdout",
     "output_type": "stream",
     "text": [
      "<class 'pandas.core.frame.DataFrame'>\n",
      "RangeIndex: 395 entries, 0 to 394\n",
      "Data columns (total 7 columns):\n",
      " #   Column                   Non-Null Count  Dtype  \n",
      "---  ------                   --------------  -----  \n",
      " 0   Name of the show         393 non-null    object \n",
      " 1   Year of release          395 non-null    int64  \n",
      " 2   No of seasons available  395 non-null    int64  \n",
      " 3   Language                 393 non-null    object \n",
      " 4   Genre                    393 non-null    object \n",
      " 5   IMDb rating              223 non-null    float64\n",
      " 6   Age of viewers           393 non-null    object \n",
      "dtypes: float64(1), int64(2), object(4)\n",
      "memory usage: 21.7+ KB\n"
     ]
    }
   ],
   "source": [
    "df.info()"
   ]
  },
  {
   "cell_type": "code",
   "execution_count": 34,
   "metadata": {},
   "outputs": [
    {
     "data": {
      "text/html": [
       "<div>\n",
       "<style scoped>\n",
       "    .dataframe tbody tr th:only-of-type {\n",
       "        vertical-align: middle;\n",
       "    }\n",
       "\n",
       "    .dataframe tbody tr th {\n",
       "        vertical-align: top;\n",
       "    }\n",
       "\n",
       "    .dataframe thead th {\n",
       "        text-align: right;\n",
       "    }\n",
       "</style>\n",
       "<table border=\"1\" class=\"dataframe\">\n",
       "  <thead>\n",
       "    <tr style=\"text-align: right;\">\n",
       "      <th></th>\n",
       "      <th>Name of the show</th>\n",
       "      <th>Year of release</th>\n",
       "      <th>No of seasons available</th>\n",
       "      <th>Language</th>\n",
       "      <th>Genre</th>\n",
       "      <th>IMDb rating</th>\n",
       "      <th>Age of viewers</th>\n",
       "    </tr>\n",
       "  </thead>\n",
       "  <tbody>\n",
       "    <tr>\n",
       "      <th>0</th>\n",
       "      <td>Pataal Lok</td>\n",
       "      <td>2020</td>\n",
       "      <td>1</td>\n",
       "      <td>Hindi</td>\n",
       "      <td>Drama</td>\n",
       "      <td>7.5</td>\n",
       "      <td>18+</td>\n",
       "    </tr>\n",
       "    <tr>\n",
       "      <th>1</th>\n",
       "      <td>Upload</td>\n",
       "      <td>2020</td>\n",
       "      <td>1</td>\n",
       "      <td>English</td>\n",
       "      <td>Sci-fi comedy</td>\n",
       "      <td>8.1</td>\n",
       "      <td>16+</td>\n",
       "    </tr>\n",
       "    <tr>\n",
       "      <th>2</th>\n",
       "      <td>The Marvelous Mrs. Maisel</td>\n",
       "      <td>2017</td>\n",
       "      <td>3</td>\n",
       "      <td>English</td>\n",
       "      <td>Drama, Comedy</td>\n",
       "      <td>8.7</td>\n",
       "      <td>16+</td>\n",
       "    </tr>\n",
       "    <tr>\n",
       "      <th>3</th>\n",
       "      <td>Four More Shots Please</td>\n",
       "      <td>2019</td>\n",
       "      <td>2</td>\n",
       "      <td>Hindi</td>\n",
       "      <td>Drama, Comedy</td>\n",
       "      <td>5.3</td>\n",
       "      <td>18+</td>\n",
       "    </tr>\n",
       "    <tr>\n",
       "      <th>4</th>\n",
       "      <td>Fleabag</td>\n",
       "      <td>2016</td>\n",
       "      <td>2</td>\n",
       "      <td>English</td>\n",
       "      <td>Comedy</td>\n",
       "      <td>8.7</td>\n",
       "      <td>18+</td>\n",
       "    </tr>\n",
       "  </tbody>\n",
       "</table>\n",
       "</div>"
      ],
      "text/plain": [
       "            Name of the show  Year of release  No of seasons available  \\\n",
       "0                 Pataal Lok             2020                        1   \n",
       "1                     Upload             2020                        1   \n",
       "2  The Marvelous Mrs. Maisel             2017                        3   \n",
       "3     Four More Shots Please             2019                        2   \n",
       "4                    Fleabag             2016                        2   \n",
       "\n",
       "  Language          Genre  IMDb rating Age of viewers  \n",
       "0    Hindi          Drama          7.5            18+  \n",
       "1  English  Sci-fi comedy          8.1            16+  \n",
       "2  English  Drama, Comedy          8.7            16+  \n",
       "3    Hindi  Drama, Comedy          5.3            18+  \n",
       "4  English         Comedy          8.7            18+  "
      ]
     },
     "execution_count": 34,
     "metadata": {},
     "output_type": "execute_result"
    }
   ],
   "source": [
    "df.head(5)"
   ]
  },
  {
   "cell_type": "code",
   "execution_count": 35,
   "metadata": {},
   "outputs": [
    {
     "name": "stdout",
     "output_type": "stream",
     "text": [
      "Requirement already satisfied: seaborn in c:\\users\\thiag\\anaconda3\\lib\\site-packages (0.11.1)\n",
      "Requirement already satisfied: numpy>=1.15 in c:\\users\\thiag\\anaconda3\\lib\\site-packages (from seaborn) (1.19.2)\n",
      "Requirement already satisfied: scipy>=1.0 in c:\\users\\thiag\\anaconda3\\lib\\site-packages (from seaborn) (1.5.2)\n",
      "Requirement already satisfied: pandas>=0.23 in c:\\users\\thiag\\anaconda3\\lib\\site-packages (from seaborn) (1.1.3)\n",
      "Requirement already satisfied: matplotlib>=2.2 in c:\\users\\thiag\\anaconda3\\lib\\site-packages (from seaborn) (3.3.2)\n",
      "Requirement already satisfied: cycler>=0.10 in c:\\users\\thiag\\anaconda3\\lib\\site-packages (from matplotlib>=2.2->seaborn) (0.10.0)\n",
      "Requirement already satisfied: python-dateutil>=2.1 in c:\\users\\thiag\\anaconda3\\lib\\site-packages (from matplotlib>=2.2->seaborn) (2.8.1)\n",
      "Requirement already satisfied: kiwisolver>=1.0.1 in c:\\users\\thiag\\anaconda3\\lib\\site-packages (from matplotlib>=2.2->seaborn) (1.3.0)\n",
      "Requirement already satisfied: certifi>=2020.06.20 in c:\\users\\thiag\\anaconda3\\lib\\site-packages (from matplotlib>=2.2->seaborn) (2020.6.20)\n",
      "Requirement already satisfied: pyparsing!=2.0.4,!=2.1.2,!=2.1.6,>=2.0.3 in c:\\users\\thiag\\anaconda3\\lib\\site-packages (from matplotlib>=2.2->seaborn) (2.4.7)\n",
      "Requirement already satisfied: pillow>=6.2.0 in c:\\users\\thiag\\anaconda3\\lib\\site-packages (from matplotlib>=2.2->seaborn) (8.0.1)\n",
      "Requirement already satisfied: six in c:\\users\\thiag\\anaconda3\\lib\\site-packages (from cycler>=0.10->matplotlib>=2.2->seaborn) (1.15.0)\n",
      "Requirement already satisfied: pytz>=2017.2 in c:\\users\\thiag\\anaconda3\\lib\\site-packages (from pandas>=0.23->seaborn) (2020.1)\n",
      "Note: you may need to restart the kernel to use updated packages.\n"
     ]
    }
   ],
   "source": [
    "pip install seaborn --upgrade"
   ]
  },
  {
   "cell_type": "code",
   "execution_count": 36,
   "metadata": {},
   "outputs": [],
   "source": [
    "import seaborn as sns"
   ]
  },
  {
   "cell_type": "code",
   "execution_count": 55,
   "metadata": {
    "scrolled": true
   },
   "outputs": [
    {
     "data": {
      "text/html": [
       "<div>\n",
       "<style scoped>\n",
       "    .dataframe tbody tr th:only-of-type {\n",
       "        vertical-align: middle;\n",
       "    }\n",
       "\n",
       "    .dataframe tbody tr th {\n",
       "        vertical-align: top;\n",
       "    }\n",
       "\n",
       "    .dataframe thead th {\n",
       "        text-align: right;\n",
       "    }\n",
       "</style>\n",
       "<table border=\"1\" class=\"dataframe\">\n",
       "  <thead>\n",
       "    <tr style=\"text-align: right;\">\n",
       "      <th></th>\n",
       "      <th>Name of the show</th>\n",
       "      <th>Year of release</th>\n",
       "      <th>No of seasons available</th>\n",
       "      <th>Language</th>\n",
       "      <th>Genre</th>\n",
       "      <th>IMDb rating</th>\n",
       "      <th>Age of viewers</th>\n",
       "    </tr>\n",
       "  </thead>\n",
       "  <tbody>\n",
       "    <tr>\n",
       "      <th>52</th>\n",
       "      <td>Malgudi Days Swami &amp; Friends 1</td>\n",
       "      <td>1987</td>\n",
       "      <td>4</td>\n",
       "      <td>Hindi</td>\n",
       "      <td>Drama</td>\n",
       "      <td>9.5</td>\n",
       "      <td>7+</td>\n",
       "    </tr>\n",
       "    <tr>\n",
       "      <th>20</th>\n",
       "      <td>The Test: A New Era for Australia's Team</td>\n",
       "      <td>2020</td>\n",
       "      <td>1</td>\n",
       "      <td>English</td>\n",
       "      <td>Documentary</td>\n",
       "      <td>9.0</td>\n",
       "      <td>16+</td>\n",
       "    </tr>\n",
       "    <tr>\n",
       "      <th>281</th>\n",
       "      <td>Seinfeld</td>\n",
       "      <td>1990</td>\n",
       "      <td>9</td>\n",
       "      <td>English</td>\n",
       "      <td>Comedy</td>\n",
       "      <td>8.8</td>\n",
       "      <td>13+</td>\n",
       "    </tr>\n",
       "    <tr>\n",
       "      <th>2</th>\n",
       "      <td>The Marvelous Mrs. Maisel</td>\n",
       "      <td>2017</td>\n",
       "      <td>3</td>\n",
       "      <td>English</td>\n",
       "      <td>Drama, Comedy</td>\n",
       "      <td>8.7</td>\n",
       "      <td>16+</td>\n",
       "    </tr>\n",
       "    <tr>\n",
       "      <th>37</th>\n",
       "      <td>Hostel Daze</td>\n",
       "      <td>2019</td>\n",
       "      <td>1</td>\n",
       "      <td>Hindi</td>\n",
       "      <td>Drama, Comedy</td>\n",
       "      <td>8.7</td>\n",
       "      <td>16+</td>\n",
       "    </tr>\n",
       "    <tr>\n",
       "      <th>4</th>\n",
       "      <td>Fleabag</td>\n",
       "      <td>2016</td>\n",
       "      <td>2</td>\n",
       "      <td>English</td>\n",
       "      <td>Comedy</td>\n",
       "      <td>8.7</td>\n",
       "      <td>18+</td>\n",
       "    </tr>\n",
       "    <tr>\n",
       "      <th>34</th>\n",
       "      <td>House</td>\n",
       "      <td>2005</td>\n",
       "      <td>8</td>\n",
       "      <td>English</td>\n",
       "      <td>Drama</td>\n",
       "      <td>8.7</td>\n",
       "      <td>16+</td>\n",
       "    </tr>\n",
       "    <tr>\n",
       "      <th>49</th>\n",
       "      <td>Downtown Abbey</td>\n",
       "      <td>2010</td>\n",
       "      <td>6</td>\n",
       "      <td>English</td>\n",
       "      <td>Drama</td>\n",
       "      <td>8.7</td>\n",
       "      <td>7+</td>\n",
       "    </tr>\n",
       "  </tbody>\n",
       "</table>\n",
       "</div>"
      ],
      "text/plain": [
       "                             Name of the show  Year of release  \\\n",
       "52             Malgudi Days Swami & Friends 1             1987   \n",
       "20   The Test: A New Era for Australia's Team             2020   \n",
       "281                                  Seinfeld             1990   \n",
       "2                   The Marvelous Mrs. Maisel             2017   \n",
       "37                                Hostel Daze             2019   \n",
       "4                                     Fleabag             2016   \n",
       "34                                      House             2005   \n",
       "49                             Downtown Abbey             2010   \n",
       "\n",
       "     No of seasons available Language          Genre  IMDb rating  \\\n",
       "52                         4    Hindi          Drama          9.5   \n",
       "20                         1  English    Documentary          9.0   \n",
       "281                        9  English         Comedy          8.8   \n",
       "2                          3  English  Drama, Comedy          8.7   \n",
       "37                         1    Hindi  Drama, Comedy          8.7   \n",
       "4                          2  English         Comedy          8.7   \n",
       "34                         8  English          Drama          8.7   \n",
       "49                         6  English          Drama          8.7   \n",
       "\n",
       "    Age of viewers  \n",
       "52              7+  \n",
       "20             16+  \n",
       "281            13+  \n",
       "2              16+  \n",
       "37             16+  \n",
       "4              18+  \n",
       "34             16+  \n",
       "49              7+  "
      ]
     },
     "execution_count": 55,
     "metadata": {},
     "output_type": "execute_result"
    }
   ],
   "source": [
    "imdb_mosts = df.sort_values(['IMDb rating'], ascending=[False]).head(8)\n",
    "imdb_mosts"
   ]
  },
  {
   "cell_type": "code",
   "execution_count": 66,
   "metadata": {},
   "outputs": [
    {
     "data": {
      "image/png": "[encoded data removed]",
      "text/plain": [
       "<Figure size 432x288 with 1 Axes>"
      ]
     },
     "metadata": {
      "needs_background": "light"
     },
     "output_type": "display_data"
    },
    {
     "data": {
      "text/plain": [
       "<Figure size 57600x43200 with 0 Axes>"
      ]
     },
     "metadata": {},
     "output_type": "display_data"
    }
   ],
   "source": [
    "sns.barplot(x = 'IMDb rating', y = 'Name of the show', data=imdb_mosts)\n",
    "plt.title('Top 8 Shows - IMDB')\n",
    "plt.figure(figsize=(800,600))\n",
    "plt.show()"
   ]
  }
 ],
 "metadata": {
  "celltoolbar": "Attachments",
  "kernelspec": {
   "display_name": "Python 3",
   "language": "python",
   "name": "python3"
  },
  "language_info": {
   "codemirror_mode": {
    "name": "ipython",
    "version": 3
   },
   "file_extension": ".py",
   "mimetype": "text/x-python",
   "name": "python",
   "nbconvert_exporter": "python",
   "pygments_lexer": "ipython3",
   "version": "3.8.5"
  }
 },
 "nbformat": 4,
 "nbformat_minor": 4
}
